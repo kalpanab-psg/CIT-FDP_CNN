{
  "nbformat": 4,
  "nbformat_minor": 0,
  "metadata": {
    "accelerator": "GPU",
    "colab": {
      "name": "CNN-Keras1.ipynb",
      "provenance": [],
      "collapsed_sections": []
    },
    "kernelspec": {
      "display_name": "Python 3",
      "name": "python3"
    }
  },
  "cells": [
    {
      "cell_type": "code",
      "metadata": {
        "id": "NBuo0CGdAKcP"
      },
      "source": [
        "!pip install -q keras\n",
        "\n",
        "\n"
      ],
      "execution_count": null,
      "outputs": []
    },
    {
      "cell_type": "markdown",
      "metadata": {
        "id": "QUOq7QJVAZPB"
      },
      "source": [
        "Keras comes with a library called datasets, which you can use to load datasets out of the box: you download the data from the server and speeds up the process since you no longer have to download the data to your computer. \n",
        "\n",
        "\n",
        "\n",
        "\n",
        "The train and test images along with the labels are loaded and stored in variables train_X, train_Y, test_X, test_Y, respectively."
      ]
    },
    {
      "cell_type": "code",
      "metadata": {
        "id": "rmey0eUSAXwV",
        "colab": {
          "base_uri": "https://localhost:8080/"
        },
        "outputId": "e3958cbf-5bf4-44a2-d249-3668c6f837d9"
      },
      "source": [
        "from keras.datasets import fashion_mnist\n",
        "(train_X,train_Y), (test_X,test_Y) = fashion_mnist.load_data()\n",
        "\n",
        " "
      ],
      "execution_count": null,
      "outputs": [
        {
          "output_type": "stream",
          "text": [
            "Downloading data from https://storage.googleapis.com/tensorflow/tf-keras-datasets/train-labels-idx1-ubyte.gz\n",
            "32768/29515 [=================================] - 0s 0us/step\n",
            "Downloading data from https://storage.googleapis.com/tensorflow/tf-keras-datasets/train-images-idx3-ubyte.gz\n",
            "26427392/26421880 [==============================] - 0s 0us/step\n",
            "Downloading data from https://storage.googleapis.com/tensorflow/tf-keras-datasets/t10k-labels-idx1-ubyte.gz\n",
            "8192/5148 [===============================================] - 0s 0us/step\n",
            "Downloading data from https://storage.googleapis.com/tensorflow/tf-keras-datasets/t10k-images-idx3-ubyte.gz\n",
            "4423680/4422102 [==============================] - 0s 0us/step\n"
          ],
          "name": "stdout"
        }
      ]
    },
    {
      "cell_type": "markdown",
      "metadata": {
        "id": "fnboGXoUVGwi"
      },
      "source": [
        "**FASHION MNIST DATASET**\n",
        "\n",
        "The Fashion-MNIST clothing classification problem is a new standard dataset used in computer vision and deep learning.\n",
        "\n",
        "Fashion-MNIST is a dataset of Zalando's article images consisting of a training set of 60,000 examples and a test set of 10,000 examples. Each example is a 28x28 grayscale image, associated with a label from 10 classes.\n",
        "\n",
        "\n",
        "Although the dataset is relatively simple, it can be used as the basis for learning and practicing how to develop, evaluate, and use deep convolutional neural networks for image classification from scratch.  \n",
        "\n",
        "\n",
        "\n",
        "Homepage: https://github.com/zalandoresearch/fashion-mnist\n",
        "\n",
        "\n",
        "\n",
        "\n"
      ]
    },
    {
      "cell_type": "markdown",
      "metadata": {
        "id": "wmbQHcA_s5Z3"
      },
      "source": [
        "**LABEL DESCRIPTION**\n",
        "\n",
        "Every three line contains a new category\n",
        "The categories are named in numbers but the names can be\n",
        "\n",
        "<p>\n",
        "<UL>\n",
        " \n",
        "0 T-shirt/top\n",
        "\n",
        "1 Trouser\n",
        "\n",
        "2 Pullover\n",
        "\n",
        "3 Dress\n",
        "\n",
        "4 Coat\n",
        "\n",
        "5 Sandal\n",
        "\n",
        "6 Shirt\n",
        "\n",
        "7 Sneaker\n",
        "\n",
        "8 Bag\n",
        "\n",
        "9 Ankle boot\n",
        "\n",
        "</UL>\n",
        "</p>\n"
      ]
    },
    {
      "cell_type": "code",
      "metadata": {
        "id": "PDfY6iGMAtAk"
      },
      "source": [
        "import numpy as np\n",
        "import matplotlib.pyplot as plt\n",
        "%matplotlib inline\n",
        "\n",
        " \n",
        "\n"
      ],
      "execution_count": null,
      "outputs": []
    },
    {
      "cell_type": "markdown",
      "metadata": {
        "id": "hTVA8aECBLkY"
      },
      "source": [
        "The training data has a shape of 60000 x 28 x 28 since there are 60,000 training samples each of 28 x 28 dimension. \n",
        "\n",
        "Similarly, the test data has a shape of 10000 x 28 x 28 since there are 10,000 testing samples."
      ]
    },
    {
      "cell_type": "code",
      "metadata": {
        "colab": {
          "base_uri": "https://localhost:8080/"
        },
        "id": "Qb6NmeKWAx-S",
        "outputId": "4a20dd5b-b36b-482c-e43b-3f8773fdea76"
      },
      "source": [
        "print('Training data shape : ', train_X.shape, train_Y.shape)\n",
        "\n",
        "print('Testing data shape : ', test_X.shape, test_Y.shape)"
      ],
      "execution_count": null,
      "outputs": [
        {
          "output_type": "stream",
          "text": [
            "Training data shape :  (60000, 28, 28) (60000,)\n",
            "Testing data shape :  (10000, 28, 28) (10000,)\n"
          ],
          "name": "stdout"
        }
      ]
    },
    {
      "cell_type": "code",
      "metadata": {
        "colab": {
          "base_uri": "https://localhost:8080/"
        },
        "id": "WtplMkJ_BUUm",
        "outputId": "40fca5c6-872e-45d8-b236-51efb3935e4a"
      },
      "source": [
        "# Find the unique numbers from the train labels\n",
        "classes = np.unique(train_Y)\n",
        "nClasses = len(classes)\n",
        "print('Total number of outputs : ', nClasses)\n",
        "print('Output classes : ', classes)"
      ],
      "execution_count": null,
      "outputs": [
        {
          "output_type": "stream",
          "text": [
            "Total number of outputs :  10\n",
            "Output classes :  [0 1 2 3 4 5 6 7 8 9]\n"
          ],
          "name": "stdout"
        }
      ]
    },
    {
      "cell_type": "code",
      "metadata": {
        "colab": {
          "base_uri": "https://localhost:8080/",
          "height": 208
        },
        "id": "cR_X1Lw1Bjot",
        "outputId": "be98703b-2ae6-4246-c8b5-886a671854bd"
      },
      "source": [
        "# Look at the images both intrain and test\n",
        "\n",
        "plt.figure(figsize=[5,5])\n",
        "\n",
        "# Display the first image in training data\n",
        "plt.subplot(121)\n",
        "plt.imshow(train_X[0,:,:], cmap='gray')\n",
        "plt.title(\"Ground Truth : {}\".format(train_Y[0]))\n",
        "\n",
        "# Display the first image in testing data\n",
        "plt.subplot(122)\n",
        "plt.imshow(test_X[0,:,:], cmap='gray')\n",
        "plt.title(\"Ground Truth : {}\".format(test_Y[0]))"
      ],
      "execution_count": null,
      "outputs": [
        {
          "output_type": "execute_result",
          "data": {
            "text/plain": [
              "Text(0.5, 1.0, 'Ground Truth : 9')"
            ]
          },
          "metadata": {
            "tags": []
          },
          "execution_count": 6
        },
        {
          "output_type": "display_data",
          "data": {
            "image/png": "[encoded data removed]",
            "text/plain": [
              "<Figure size 360x360 with 2 Axes>"
            ]
          },
          "metadata": {
            "tags": [],
            "needs_background": "light"
          }
        }
      ]
    },
    {
      "cell_type": "markdown",
      "metadata": {
        "id": "iSbjvfTlAEEu"
      },
      "source": [
        "**Data Preprocessing**\n",
        "\n",
        "As you could see in the above plot, the images are grayscale images have pixel values that range from 0 to 255. Also, these images have a dimension of 28 x 28. As a result, you'll need to preprocess the data before you feed it into the model.\n",
        "\n",
        "As a first step, convert each 28 x 28 image of the train and test set into a matrix of size 28 x 28 x 1 which is fed into the network."
      ]
    },
    {
      "cell_type": "code",
      "metadata": {
        "colab": {
          "base_uri": "https://localhost:8080/"
        },
        "id": "nH83cOJ7CcO6",
        "outputId": "c2c0b52e-789c-4080-cd3f-58df27ee2e94"
      },
      "source": [
        "#reshape ()--> -1 means that the length in that dimension is inferred. \n",
        "#This is done based on the constraint that the number of elements in an ndarray or Tensor when reshaped must remain the same.\n",
        "print(train_X.shape)   # before reshape\n",
        "\n",
        "train_X = train_X.reshape(-1, 28,28, 1)\n",
        "test_X = test_X.reshape(-1, 28,28, 1)\n",
        "\n",
        "train_X.shape, test_X.shape\n",
        "\n"
      ],
      "execution_count": null,
      "outputs": [
        {
          "output_type": "stream",
          "text": [
            "(60000, 28, 28)\n"
          ],
          "name": "stdout"
        },
        {
          "output_type": "execute_result",
          "data": {
            "text/plain": [
              "((60000, 28, 28, 1), (10000, 28, 28, 1))"
            ]
          },
          "metadata": {
            "tags": []
          },
          "execution_count": 7
        }
      ]
    },
    {
      "cell_type": "code",
      "metadata": {
        "id": "PMVNryQ__YzH"
      },
      "source": [
        "#Before you feed it into the network you need to convert its type to float32   (from int8)\n",
        "train_X = train_X.astype('float32')\n",
        "test_X = test_X.astype('float32')\n",
        "\n",
        "\n",
        "#rescale the pixel values in range 0 - 1 inclusive\n",
        "train_X = train_X / 255.\n",
        "test_X = test_X / 255."
      ],
      "execution_count": null,
      "outputs": []
    },
    {
      "cell_type": "markdown",
      "metadata": {
        "id": "9F-ayDl-F-w4"
      },
      "source": [
        "**ONE HOT ENCODING**\n",
        "\n",
        "In one-hot encoding, you convert the categorical data into a vector of numbers. The reason why you convert the categorical data in one hot encoding is that machine learning algorithms cannot work with categorical data directly.\n",
        "\n",
        " You generate one boolean column for each category or class.\n",
        "  [ 0 0 0 0 0 0 0 0 0 1 ] represents Ankle boot (class 0-9)\n",
        "\n",
        " Only one of these columns could take on the value 1 for each sample. Hence, the term one-hot encoding.\n"
      ]
    },
    {
      "cell_type": "code",
      "metadata": {
        "colab": {
          "base_uri": "https://localhost:8080/"
        },
        "id": "UAPOxfLoF9MM",
        "outputId": "a0e7dc72-9f39-4c65-89da-b170ae314941"
      },
      "source": [
        "from keras.utils import to_categorical\n",
        " \n",
        "\n",
        "# Change the labels from categorical to one-hot encoding\n",
        "train_Y_one_hot = to_categorical(train_Y)\n",
        "test_Y_one_hot = to_categorical(test_Y)\n",
        "\n",
        "# Display the change for category label using one-hot encoding\n",
        "print('Original label:', train_Y[0])\n",
        "print('After conversion to one-hot:', train_Y_one_hot[0])\n",
        " "
      ],
      "execution_count": null,
      "outputs": [
        {
          "output_type": "stream",
          "text": [
            "Original label: 9\n",
            "After conversion to one-hot: [0. 0. 0. 0. 0. 0. 0. 0. 0. 1.]\n"
          ],
          "name": "stdout"
        }
      ]
    },
    {
      "cell_type": "markdown",
      "metadata": {
        "id": "A5vmvnNJIfjG"
      },
      "source": [
        " **TEST AND VALIDATION DATASET**\n",
        " \n",
        "For the model to generalize well, you split the training data into two parts, one designed for training and another one for validation. In this case, you will train the model on 80\\% of the training data and validate it on 20\\% of the remaining training data. This will also help to reduce overfitting since you will be validating the model on the data it would not have seen in training phase, which will help in boosting the test performance."
      ]
    },
    {
      "cell_type": "code",
      "metadata": {
        "colab": {
          "base_uri": "https://localhost:8080/"
        },
        "id": "nTzSs7ScFzbg",
        "outputId": "0feda9e6-dacb-430a-ae6f-b931a08a98a7"
      },
      "source": [
        "from sklearn.model_selection import train_test_split\n",
        "train_X,valid_X,train_label,valid_label = train_test_split(train_X, train_Y_one_hot, test_size=0.2, random_state=13)\n",
        "\n",
        "#check size of train and validation dataset\n",
        "train_X.shape,valid_X.shape,train_label.shape,valid_label.shape"
      ],
      "execution_count": null,
      "outputs": [
        {
          "output_type": "execute_result",
          "data": {
            "text/plain": [
              "((48000, 28, 28, 1), (12000, 28, 28, 1), (48000, 10), (12000, 10))"
            ]
          },
          "metadata": {
            "tags": []
          },
          "execution_count": 10
        }
      ]
    },
    {
      "cell_type": "markdown",
      "metadata": {
        "id": "6pGCXc9vJKu0"
      },
      "source": [
        "**CNN ARCHITECTURE DESIGN**\n",
        "\n",
        "\n",
        "The images are of size 28 x 28. You convert the image matrix to an array, rescale it between 0 and 1, reshape it so that it's of size 28 x 28 x 1, and feed this as an input to the network.\n",
        "\n",
        "You'll use three convolutional layers:\n",
        "\n",
        "The first layer will have 32-3 x 3 filters,\n",
        "The second layer will have 64-3 x 3 filters and\n",
        "The third layer will have 128-3 x 3 filters.\n",
        "In addition, there are three max-pooling layers each of size 2 x 2.\n",
        "\n",
        "![cnn-fashion-mnist-arch.png](data:image/png;base64,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)\n",
        "\n",
        "\n"
      ]
    },
    {
      "cell_type": "markdown",
      "metadata": {
        "id": "7o1M6EYtK9kM"
      },
      "source": [
        "**MODEL THE DATA**\n"
      ]
    },
    {
      "cell_type": "code",
      "metadata": {
        "id": "Kc4bbpFyLA0A"
      },
      "source": [
        "import keras\n",
        "from keras.models import Sequential,Input,Model\n",
        "from keras.layers import Dense, Dropout, Flatten\n",
        "from keras.layers import Conv2D, MaxPooling2D\n",
        "from keras.layers.normalization import BatchNormalization\n",
        "from keras.layers.advanced_activations import LeakyReLU\n",
        "\n",
        "\n",
        "\n"
      ],
      "execution_count": null,
      "outputs": []
    },
    {
      "cell_type": "code",
      "metadata": {
        "id": "rvcjvN3KW5kx"
      },
      "source": [
        "\n",
        "#set batch size and number of epochs\n",
        "batch_size = 64\n",
        "epochs = 20\n",
        "num_classes = 10"
      ],
      "execution_count": null,
      "outputs": []
    },
    {
      "cell_type": "code",
      "metadata": {
        "id": "1GmgOafsLNIF"
      },
      "source": [
        "fashion_model = Sequential()\n",
        "fashion_model.add(Conv2D(32, kernel_size=(3, 3),activation='linear',input_shape=(28,28,1),padding='same'))\n",
        "fashion_model.add(LeakyReLU(alpha=0.1))\n",
        "fashion_model.add(MaxPooling2D((2, 2),padding='same'))\n",
        "fashion_model.add(Conv2D(64, (3, 3), activation='linear',padding='same'))\n",
        "fashion_model.add(LeakyReLU(alpha=0.1))\n",
        "fashion_model.add(MaxPooling2D(pool_size=(2, 2),padding='same'))\n",
        "fashion_model.add(Conv2D(128, (3, 3), activation='linear',padding='same'))\n",
        "fashion_model.add(LeakyReLU(alpha=0.1))                  \n",
        "fashion_model.add(MaxPooling2D(pool_size=(2, 2),padding='same'))\n",
        "fashion_model.add(Flatten())\n",
        "fashion_model.add(Dense(128, activation='linear'))\n",
        "fashion_model.add(LeakyReLU(alpha=0.1))                  \n",
        "fashion_model.add(Dense(num_classes, activation='softmax'))"
      ],
      "execution_count": null,
      "outputs": []
    },
    {
      "cell_type": "code",
      "metadata": {
        "id": "VcNAG6JaLX-x"
      },
      "source": [
        "#Compile the Model\n",
        "\n",
        "#use optimizer and metrics parameter\n",
        "fashion_model.compile(loss=keras.losses.categorical_crossentropy, optimizer=keras.optimizers.Adam(),metrics=['accuracy'])"
      ],
      "execution_count": null,
      "outputs": []
    },
    {
      "cell_type": "code",
      "metadata": {
        "colab": {
          "base_uri": "https://localhost:8080/"
        },
        "id": "ztf3gDJdLrL2",
        "outputId": "1760f50e-ab2c-42f1-f409-1a89c9fc9f9b"
      },
      "source": [
        "#Let's visualize the layers that you created in the above step by using the summary function.\n",
        "#This will show some parameters (weights and biases) in each layer and also the total parameters in your model.\n",
        "\n",
        "fashion_model.summary()"
      ],
      "execution_count": null,
      "outputs": [
        {
          "output_type": "stream",
          "text": [
            "Model: \"sequential\"\n",
            "_________________________________________________________________\n",
            "Layer (type)                 Output Shape              Param #   \n",
            "=================================================================\n",
            "conv2d (Conv2D)              (None, 28, 28, 32)        320       \n",
            "_________________________________________________________________\n",
            "leaky_re_lu (LeakyReLU)      (None, 28, 28, 32)        0         \n",
            "_________________________________________________________________\n",
            "max_pooling2d (MaxPooling2D) (None, 14, 14, 32)        0         \n",
            "_________________________________________________________________\n",
            "conv2d_1 (Conv2D)            (None, 14, 14, 64)        18496     \n",
            "_________________________________________________________________\n",
            "leaky_re_lu_1 (LeakyReLU)    (None, 14, 14, 64)        0         \n",
            "_________________________________________________________________\n",
            "max_pooling2d_1 (MaxPooling2 (None, 7, 7, 64)          0         \n",
            "_________________________________________________________________\n",
            "conv2d_2 (Conv2D)            (None, 7, 7, 128)         73856     \n",
            "_________________________________________________________________\n",
            "leaky_re_lu_2 (LeakyReLU)    (None, 7, 7, 128)         0         \n",
            "_________________________________________________________________\n",
            "max_pooling2d_2 (MaxPooling2 (None, 4, 4, 128)         0         \n",
            "_________________________________________________________________\n",
            "flatten (Flatten)            (None, 2048)              0         \n",
            "_________________________________________________________________\n",
            "dense (Dense)                (None, 128)               262272    \n",
            "_________________________________________________________________\n",
            "leaky_re_lu_3 (LeakyReLU)    (None, 128)               0         \n",
            "_________________________________________________________________\n",
            "dense_1 (Dense)              (None, 10)                1290      \n",
            "=================================================================\n",
            "Total params: 356,234\n",
            "Trainable params: 356,234\n",
            "Non-trainable params: 0\n",
            "_________________________________________________________________\n"
          ],
          "name": "stdout"
        }
      ]
    },
    {
      "cell_type": "code",
      "metadata": {
        "colab": {
          "base_uri": "https://localhost:8080/"
        },
        "id": "0MnLgkaULyhD",
        "outputId": "4c0369e2-3a5f-46e6-9b5d-7aef7386b94f"
      },
      "source": [
        "#Train the Model  for the number of epochs set\n",
        "#keras fit()  will return a history object\n",
        "fashion_train = fashion_model.fit(train_X, train_label, batch_size=batch_size,epochs=epochs,verbose=1,validation_data=(valid_X, valid_label))\n"
      ],
      "execution_count": null,
      "outputs": [
        {
          "output_type": "stream",
          "text": [
            "Epoch 1/20\n",
            "750/750 [==============================] - 36s 5ms/step - loss: 0.6675 - accuracy: 0.7523 - val_loss: 0.3361 - val_accuracy: 0.8764\n",
            "Epoch 2/20\n",
            "750/750 [==============================] - 3s 4ms/step - loss: 0.2924 - accuracy: 0.8929 - val_loss: 0.2865 - val_accuracy: 0.8947\n",
            "Epoch 3/20\n",
            "750/750 [==============================] - 3s 4ms/step - loss: 0.2448 - accuracy: 0.9097 - val_loss: 0.2620 - val_accuracy: 0.9035\n",
            "Epoch 4/20\n",
            "750/750 [==============================] - 3s 4ms/step - loss: 0.2069 - accuracy: 0.9236 - val_loss: 0.2447 - val_accuracy: 0.9125\n",
            "Epoch 5/20\n",
            "750/750 [==============================] - 3s 4ms/step - loss: 0.1797 - accuracy: 0.9323 - val_loss: 0.2318 - val_accuracy: 0.9182\n",
            "Epoch 6/20\n",
            "750/750 [==============================] - 3s 4ms/step - loss: 0.1588 - accuracy: 0.9418 - val_loss: 0.2162 - val_accuracy: 0.9226\n",
            "Epoch 7/20\n",
            "750/750 [==============================] - 3s 4ms/step - loss: 0.1372 - accuracy: 0.9492 - val_loss: 0.2313 - val_accuracy: 0.9216\n",
            "Epoch 8/20\n",
            "750/750 [==============================] - 3s 4ms/step - loss: 0.1165 - accuracy: 0.9566 - val_loss: 0.2683 - val_accuracy: 0.9130\n",
            "Epoch 9/20\n",
            "750/750 [==============================] - 3s 4ms/step - loss: 0.0975 - accuracy: 0.9641 - val_loss: 0.2444 - val_accuracy: 0.9218\n",
            "Epoch 10/20\n",
            "750/750 [==============================] - 3s 4ms/step - loss: 0.0791 - accuracy: 0.9719 - val_loss: 0.2789 - val_accuracy: 0.9220\n",
            "Epoch 11/20\n",
            "750/750 [==============================] - 3s 4ms/step - loss: 0.0690 - accuracy: 0.9745 - val_loss: 0.2969 - val_accuracy: 0.9199\n",
            "Epoch 12/20\n",
            "750/750 [==============================] - 3s 4ms/step - loss: 0.0580 - accuracy: 0.9783 - val_loss: 0.3078 - val_accuracy: 0.9215\n",
            "Epoch 13/20\n",
            "750/750 [==============================] - 3s 4ms/step - loss: 0.0479 - accuracy: 0.9819 - val_loss: 0.3202 - val_accuracy: 0.9217\n",
            "Epoch 14/20\n",
            "750/750 [==============================] - 3s 4ms/step - loss: 0.0459 - accuracy: 0.9826 - val_loss: 0.3338 - val_accuracy: 0.9200\n",
            "Epoch 15/20\n",
            "750/750 [==============================] - 3s 4ms/step - loss: 0.0390 - accuracy: 0.9856 - val_loss: 0.3375 - val_accuracy: 0.9224\n",
            "Epoch 16/20\n",
            "750/750 [==============================] - 3s 4ms/step - loss: 0.0345 - accuracy: 0.9882 - val_loss: 0.4177 - val_accuracy: 0.9143\n",
            "Epoch 17/20\n",
            "750/750 [==============================] - 3s 4ms/step - loss: 0.0338 - accuracy: 0.9881 - val_loss: 0.3934 - val_accuracy: 0.9210\n",
            "Epoch 18/20\n",
            "750/750 [==============================] - 3s 4ms/step - loss: 0.0290 - accuracy: 0.9898 - val_loss: 0.4469 - val_accuracy: 0.9209\n",
            "Epoch 19/20\n",
            "750/750 [==============================] - 3s 4ms/step - loss: 0.0268 - accuracy: 0.9899 - val_loss: 0.4415 - val_accuracy: 0.9187\n",
            "Epoch 20/20\n",
            "750/750 [==============================] - 3s 4ms/step - loss: 0.0252 - accuracy: 0.9911 - val_loss: 0.3970 - val_accuracy: 0.9238\n"
          ],
          "name": "stdout"
        }
      ]
    },
    {
      "cell_type": "markdown",
      "metadata": {
        "id": "TTesTBu8NENy"
      },
      "source": [
        "**Model Evaluation on the Test Set**"
      ]
    },
    {
      "cell_type": "code",
      "metadata": {
        "id": "rSCeerxDNKuE"
      },
      "source": [
        "test_eval = fashion_model.evaluate(test_X, test_Y_one_hot, verbose=0)"
      ],
      "execution_count": null,
      "outputs": []
    },
    {
      "cell_type": "code",
      "metadata": {
        "id": "wrNsrp1BMOjE",
        "colab": {
          "base_uri": "https://localhost:8080/"
        },
        "outputId": "3b3b640b-351f-4c62-a133-2a6f713e576b"
      },
      "source": [
        "print('Test loss:', test_eval[0])\n",
        "print('Test accuracy:', test_eval[1])\n"
      ],
      "execution_count": null,
      "outputs": [
        {
          "output_type": "stream",
          "text": [
            "Test loss: 0.43362948298454285\n",
            "Test accuracy: 0.9164999723434448\n"
          ],
          "name": "stdout"
        }
      ]
    },
    {
      "cell_type": "markdown",
      "metadata": {
        "id": "EZXrtzsjNffU"
      },
      "source": [
        "The test accuracy looks impressive. \n",
        "\n",
        "Let's put your model evaluation into perspective and plot the accuracy and loss plots between training and validation data\n",
        "\n"
      ]
    },
    {
      "cell_type": "code",
      "metadata": {
        "id": "pZlubGmHNPXc",
        "colab": {
          "base_uri": "https://localhost:8080/",
          "height": 545
        },
        "outputId": "4af41118-e3bc-468d-d9d3-ec5e623dde11"
      },
      "source": [
        "accuracy = fashion_train.history['accuracy']\n",
        "val_accuracy = fashion_train.history['val_accuracy']\n",
        "loss = fashion_train.history['loss']\n",
        "val_loss = fashion_train.history['val_loss']\n",
        "epochs = range(len(accuracy))\n",
        "plt.plot(epochs, accuracy, 'ro', label='Training accuracy')\n",
        "plt.plot(epochs, val_accuracy, 'b', label='Validation accuracy')\n",
        "plt.title('Training and validation accuracy')\n",
        "plt.legend()\n",
        "plt.figure()\n",
        "plt.plot(epochs, loss, 'ro', label='Training loss')\n",
        "plt.plot(epochs, val_loss, 'b', label='Validation loss')\n",
        "plt.title('Training and validation loss')\n",
        "plt.legend()\n",
        "plt.show()\n"
      ],
      "execution_count": null,
      "outputs": [
        {
          "output_type": "display_data",
          "data": {
            "image/png": "[encoded data removed]",
            "text/plain": [
              "<Figure size 432x288 with 1 Axes>"
            ]
          },
          "metadata": {
            "tags": [],
            "needs_background": "light"
          }
        },
        {
          "output_type": "display_data",
          "data": {
            "image/png": "[encoded data removed]",
            "text/plain": [
              "<Figure size 432x288 with 1 Axes>"
            ]
          },
          "metadata": {
            "tags": [],
            "needs_background": "light"
          }
        }
      ]
    },
    {
      "cell_type": "markdown",
      "metadata": {
        "id": "jYNg2K7bOPYN"
      },
      "source": [
        "From the above two plots, you can see that the validation accuracy almost became stagnant after 4-5 epochs and rarely increased at certain epochs. In the beginning, the validation accuracy was linearly increasing with loss, but then it did not increase much.\n",
        "\n",
        "The validation loss shows that this is the sign of overfitting, similar to validation accuracy it linearly decreased but after 4-5 epochs, it started to increase. This means that the model tried to memorize the data and succeeded.\n",
        "\n",
        "With this in mind, it's time to introduce some dropout into our model and see if it helps in reducing overfitting.\n",
        "\n",
        "\n",
        "**Adding Dropout to minimize overfitting**\n",
        "\n",
        "\n",
        " Dropout randomly turns off a fraction of neurons during the training process, reducing the dependency on the training set by some amount. How many fractions of neurons you want to turn off is decided by a hyperparameter, which can be tuned accordingly. This way, turning off some neurons will not allow the network to memorize the training data since not all the neurons will be active at the same time and the inactive neurons will not be able to learn anything.\n",
        "\n",
        " "
      ]
    },
    {
      "cell_type": "code",
      "metadata": {
        "id": "t60O3w_GOQ7S",
        "colab": {
          "base_uri": "https://localhost:8080/"
        },
        "outputId": "20cb4112-654a-4863-a590-b054af6b97d3"
      },
      "source": [
        "fashion_model = Sequential()\n",
        "fashion_model.add(Conv2D(32, kernel_size=(3, 3),activation='linear',padding='same',input_shape=(28,28,1)))\n",
        "fashion_model.add(LeakyReLU(alpha=0.1))\n",
        "fashion_model.add(MaxPooling2D((2, 2),padding='same'))\n",
        "fashion_model.add(Dropout(0.25))\n",
        "fashion_model.add(Conv2D(64, (3, 3), activation='linear',padding='same'))\n",
        "fashion_model.add(LeakyReLU(alpha=0.1))\n",
        "fashion_model.add(MaxPooling2D(pool_size=(2, 2),padding='same'))\n",
        "fashion_model.add(Dropout(0.25))\n",
        "fashion_model.add(Conv2D(128, (3, 3), activation='linear',padding='same'))\n",
        "fashion_model.add(LeakyReLU(alpha=0.1))                  \n",
        "fashion_model.add(MaxPooling2D(pool_size=(2, 2),padding='same'))\n",
        "fashion_model.add(Dropout(0.4))\n",
        "fashion_model.add(Flatten())\n",
        "fashion_model.add(Dense(128, activation='linear'))\n",
        "fashion_model.add(LeakyReLU(alpha=0.1))           \n",
        "fashion_model.add(Dropout(0.3))\n",
        "fashion_model.add(Dense(num_classes, activation='softmax'))\n",
        "fashion_model.summary()\n",
        "\n",
        "\n",
        "#set batch size and number of epochs\n",
        "batch_size = 64\n",
        "epochs = 20\n",
        "num_classes = 10\n"
      ],
      "execution_count": null,
      "outputs": [
        {
          "output_type": "stream",
          "text": [
            "Model: \"sequential_1\"\n",
            "_________________________________________________________________\n",
            "Layer (type)                 Output Shape              Param #   \n",
            "=================================================================\n",
            "conv2d_3 (Conv2D)            (None, 28, 28, 32)        320       \n",
            "_________________________________________________________________\n",
            "leaky_re_lu_4 (LeakyReLU)    (None, 28, 28, 32)        0         \n",
            "_________________________________________________________________\n",
            "max_pooling2d_3 (MaxPooling2 (None, 14, 14, 32)        0         \n",
            "_________________________________________________________________\n",
            "dropout (Dropout)            (None, 14, 14, 32)        0         \n",
            "_________________________________________________________________\n",
            "conv2d_4 (Conv2D)            (None, 14, 14, 64)        18496     \n",
            "_________________________________________________________________\n",
            "leaky_re_lu_5 (LeakyReLU)    (None, 14, 14, 64)        0         \n",
            "_________________________________________________________________\n",
            "max_pooling2d_4 (MaxPooling2 (None, 7, 7, 64)          0         \n",
            "_________________________________________________________________\n",
            "dropout_1 (Dropout)          (None, 7, 7, 64)          0         \n",
            "_________________________________________________________________\n",
            "conv2d_5 (Conv2D)            (None, 7, 7, 128)         73856     \n",
            "_________________________________________________________________\n",
            "leaky_re_lu_6 (LeakyReLU)    (None, 7, 7, 128)         0         \n",
            "_________________________________________________________________\n",
            "max_pooling2d_5 (MaxPooling2 (None, 4, 4, 128)         0         \n",
            "_________________________________________________________________\n",
            "dropout_2 (Dropout)          (None, 4, 4, 128)         0         \n",
            "_________________________________________________________________\n",
            "flatten_1 (Flatten)          (None, 2048)              0         \n",
            "_________________________________________________________________\n",
            "dense_2 (Dense)              (None, 128)               262272    \n",
            "_________________________________________________________________\n",
            "leaky_re_lu_7 (LeakyReLU)    (None, 128)               0         \n",
            "_________________________________________________________________\n",
            "dropout_3 (Dropout)          (None, 128)               0         \n",
            "_________________________________________________________________\n",
            "dense_3 (Dense)              (None, 10)                1290      \n",
            "=================================================================\n",
            "Total params: 356,234\n",
            "Trainable params: 356,234\n",
            "Non-trainable params: 0\n",
            "_________________________________________________________________\n"
          ],
          "name": "stdout"
        }
      ]
    },
    {
      "cell_type": "code",
      "metadata": {
        "colab": {
          "base_uri": "https://localhost:8080/"
        },
        "id": "ezlcWX7_O6IG",
        "outputId": "41cc0712-3187-4086-86ae-869df61952f3"
      },
      "source": [
        "fashion_model.compile(loss=keras.losses.categorical_crossentropy, optimizer=keras.optimizers.Adam(),metrics=['accuracy'])\n",
        "fashion_train_dropout = fashion_model.fit(train_X, train_label, batch_size=batch_size,epochs=epochs,verbose=1,validation_data=(valid_X, valid_label))"
      ],
      "execution_count": null,
      "outputs": [
        {
          "output_type": "stream",
          "text": [
            "Epoch 1/20\n",
            "750/750 [==============================] - 4s 5ms/step - loss: 0.8593 - accuracy: 0.6783 - val_loss: 0.3786 - val_accuracy: 0.8597\n",
            "Epoch 2/20\n",
            "750/750 [==============================] - 3s 5ms/step - loss: 0.4010 - accuracy: 0.8529 - val_loss: 0.3252 - val_accuracy: 0.8790\n",
            "Epoch 3/20\n",
            "750/750 [==============================] - 3s 5ms/step - loss: 0.3382 - accuracy: 0.8710 - val_loss: 0.2883 - val_accuracy: 0.8929\n",
            "Epoch 4/20\n",
            "750/750 [==============================] - 3s 5ms/step - loss: 0.3087 - accuracy: 0.8852 - val_loss: 0.2663 - val_accuracy: 0.9017\n",
            "Epoch 5/20\n",
            "750/750 [==============================] - 3s 5ms/step - loss: 0.2843 - accuracy: 0.8934 - val_loss: 0.2558 - val_accuracy: 0.9047\n",
            "Epoch 6/20\n",
            "750/750 [==============================] - 3s 5ms/step - loss: 0.2705 - accuracy: 0.8998 - val_loss: 0.2364 - val_accuracy: 0.9130\n",
            "Epoch 7/20\n",
            "750/750 [==============================] - 3s 5ms/step - loss: 0.2588 - accuracy: 0.9034 - val_loss: 0.2357 - val_accuracy: 0.9141\n",
            "Epoch 8/20\n",
            "750/750 [==============================] - 3s 5ms/step - loss: 0.2440 - accuracy: 0.9074 - val_loss: 0.2383 - val_accuracy: 0.9121\n",
            "Epoch 9/20\n",
            "750/750 [==============================] - 3s 5ms/step - loss: 0.2366 - accuracy: 0.9116 - val_loss: 0.2326 - val_accuracy: 0.9133\n",
            "Epoch 10/20\n",
            "750/750 [==============================] - 3s 5ms/step - loss: 0.2282 - accuracy: 0.9143 - val_loss: 0.2304 - val_accuracy: 0.9143\n",
            "Epoch 11/20\n",
            "750/750 [==============================] - 3s 5ms/step - loss: 0.2292 - accuracy: 0.9135 - val_loss: 0.2387 - val_accuracy: 0.9115\n",
            "Epoch 12/20\n",
            "750/750 [==============================] - 3s 5ms/step - loss: 0.2187 - accuracy: 0.9196 - val_loss: 0.2207 - val_accuracy: 0.9167\n",
            "Epoch 13/20\n",
            "750/750 [==============================] - 3s 5ms/step - loss: 0.2147 - accuracy: 0.9183 - val_loss: 0.2128 - val_accuracy: 0.9208\n",
            "Epoch 14/20\n",
            "750/750 [==============================] - 3s 5ms/step - loss: 0.2151 - accuracy: 0.9188 - val_loss: 0.2133 - val_accuracy: 0.9211\n",
            "Epoch 15/20\n",
            "750/750 [==============================] - 3s 5ms/step - loss: 0.2127 - accuracy: 0.9182 - val_loss: 0.2187 - val_accuracy: 0.9213\n",
            "Epoch 16/20\n",
            "750/750 [==============================] - 3s 5ms/step - loss: 0.2056 - accuracy: 0.9217 - val_loss: 0.2184 - val_accuracy: 0.9222\n",
            "Epoch 17/20\n",
            "750/750 [==============================] - 3s 5ms/step - loss: 0.2000 - accuracy: 0.9248 - val_loss: 0.2155 - val_accuracy: 0.9236\n",
            "Epoch 18/20\n",
            "750/750 [==============================] - 3s 5ms/step - loss: 0.1971 - accuracy: 0.9250 - val_loss: 0.2067 - val_accuracy: 0.9274\n",
            "Epoch 19/20\n",
            "750/750 [==============================] - 3s 5ms/step - loss: 0.1974 - accuracy: 0.9262 - val_loss: 0.2070 - val_accuracy: 0.9254\n",
            "Epoch 20/20\n",
            "750/750 [==============================] - 3s 5ms/step - loss: 0.1934 - accuracy: 0.9266 - val_loss: 0.2083 - val_accuracy: 0.9281\n"
          ],
          "name": "stdout"
        }
      ]
    },
    {
      "cell_type": "code",
      "metadata": {
        "colab": {
          "base_uri": "https://localhost:8080/"
        },
        "id": "vWg0R0G0PDws",
        "outputId": "842bf2b2-0a0d-415d-e3c7-0ae2ab5371cf"
      },
      "source": [
        "test_eval = fashion_model.evaluate(test_X, test_Y_one_hot, verbose=1)"
      ],
      "execution_count": null,
      "outputs": [
        {
          "output_type": "stream",
          "text": [
            "313/313 [==============================] - 1s 2ms/step - loss: 0.2201 - accuracy: 0.9209\n"
          ],
          "name": "stdout"
        }
      ]
    },
    {
      "cell_type": "code",
      "metadata": {
        "colab": {
          "base_uri": "https://localhost:8080/"
        },
        "id": "VqqwdiDxQJI2",
        "outputId": "272f4ef2-3494-41ac-d465-9a2e641ad9a3"
      },
      "source": [
        "print('Test loss:', test_eval[0])\n",
        "print('Test accuracy:', test_eval[1])"
      ],
      "execution_count": null,
      "outputs": [
        {
          "output_type": "stream",
          "text": [
            "Test loss: 0.22006657719612122\n",
            "Test accuracy: 0.9208999872207642\n"
          ],
          "name": "stdout"
        }
      ]
    },
    {
      "cell_type": "code",
      "metadata": {
        "colab": {
          "base_uri": "https://localhost:8080/",
          "height": 545
        },
        "id": "3GUeKhvnQN2g",
        "outputId": "0a207646-b19f-449f-a78a-cc0a94ed25b2"
      },
      "source": [
        "#lets plot again to see if model still overfitting\n",
        "accuracy = fashion_train_dropout.history['accuracy']\n",
        "val_accuracy = fashion_train_dropout.history['val_accuracy']\n",
        "loss = fashion_train_dropout.history['loss']\n",
        "val_loss = fashion_train_dropout.history['val_loss']\n",
        "epochs = range(len(accuracy))\n",
        "plt.plot(epochs, accuracy, 'ro', label='Training accuracy')\n",
        "plt.plot(epochs, val_accuracy, 'b', label='Validation accuracy')\n",
        "plt.title('Training and validation accuracy')\n",
        "plt.legend()\n",
        "plt.figure()\n",
        "plt.plot(epochs, loss, 'ro', label='Training loss')\n",
        "plt.plot(epochs, val_loss, 'b', label='Validation loss')\n",
        "plt.title('Training and validation loss')\n",
        "plt.legend()\n",
        "plt.show()"
      ],
      "execution_count": null,
      "outputs": [
        {
          "output_type": "display_data",
          "data": {
            "image/png": "[encoded data removed]",
            "text/plain": [
              "<Figure size 432x288 with 1 Axes>"
            ]
          },
          "metadata": {
            "tags": [],
            "needs_background": "light"
          }
        },
        {
          "output_type": "display_data",
          "data": {
            "image/png": "[encoded data removed]",
            "text/plain": [
              "<Figure size 432x288 with 1 Axes>"
            ]
          },
          "metadata": {
            "tags": [],
            "needs_background": "light"
          }
        }
      ]
    },
    {
      "cell_type": "markdown",
      "metadata": {
        "id": "HR4xt_ljQqr0"
      },
      "source": [
        "Finally, you can see that the validation loss and validation accuracy both are in sync with the training loss and training accuracy. Even though the validation loss and accuracy line are not linear, but it shows that your model is not overfitting: the validation loss is decreasing and not increasing, and there is not much gap between training and validation accuracy."
      ]
    },
    {
      "cell_type": "markdown",
      "metadata": {
        "id": "3MnS4rOCRDhG"
      },
      "source": [
        "**PREDICT CLASSES**\n",
        "\n",
        "Since the predictions you get are floating point values, it will not be feasible to compare the predicted labels with true test labels. So, you will round off the output which will convert the float values into an integer. Further, you will use np.argmax() to select the index number which has a higher value in a row.\n",
        "\n",
        "For example, let's assume a prediction for one test image to be 0 1 0 0 0 0 0 0 0 0, the output for this should be a class label 1."
      ]
    },
    {
      "cell_type": "code",
      "metadata": {
        "id": "O8GX3wfmQYeu"
      },
      "source": [
        "#Predict Labels\n",
        "predicted_classes = fashion_model.predict(test_X)\n",
        "\n",
        "predicted_classes = np.argmax(np.round(predicted_classes),axis=1)\n"
      ],
      "execution_count": null,
      "outputs": []
    },
    {
      "cell_type": "code",
      "metadata": {
        "colab": {
          "base_uri": "https://localhost:8080/"
        },
        "id": "4BGzVW3ERU-a",
        "outputId": "03db4ee6-3a05-4048-ecad-eb97a3d55d05"
      },
      "source": [
        "correct = np.where(predicted_classes==test_Y)[0]\n",
        "print(\"correct labels found\", len(correct))"
      ],
      "execution_count": null,
      "outputs": [
        {
          "output_type": "stream",
          "text": [
            "correct labels found 9178\n"
          ],
          "name": "stdout"
        }
      ]
    },
    {
      "cell_type": "code",
      "metadata": {
        "colab": {
          "base_uri": "https://localhost:8080/",
          "height": 297
        },
        "id": "cvvKyfD3Q4NA",
        "outputId": "332bbf8a-905d-4910-9a46-8d8ed5be7ad2"
      },
      "source": [
        " #lets see the predicted output for some images\n",
        "\n",
        "for i, correct in enumerate(correct[:9]):\n",
        "    plt.subplot(3,3,i+1)\n",
        "    plt.imshow(test_X[correct].reshape(28,28), cmap='gray', interpolation='none')\n",
        "    plt.title(\"Predicted {}, Class {}\".format(predicted_classes[correct], test_Y[correct]))\n",
        "    plt.tight_layout()"
      ],
      "execution_count": null,
      "outputs": [
        {
          "output_type": "display_data",
          "data": {
            "image/png": "[encoded data removed]",
            "text/plain": [
              "<Figure size 432x288 with 9 Axes>"
            ]
          },
          "metadata": {
            "tags": [],
            "needs_background": "light"
          }
        }
      ]
    },
    {
      "cell_type": "code",
      "metadata": {
        "colab": {
          "base_uri": "https://localhost:8080/",
          "height": 297
        },
        "id": "lpNFzeJ0SF1X",
        "outputId": "3f3f5d1b-9b0d-4106-8c76-c97d5cb4b15c"
      },
      "source": [
        "#lets see some incorrect predictions\n",
        "incorrect = np.where(predicted_classes!=test_Y)[0]\n",
        " \n",
        "for i, incorrect in enumerate(incorrect[:9]):\n",
        "    plt.subplot(3,3,i+1)\n",
        "    plt.imshow(test_X[incorrect].reshape(28,28), cmap='gray', interpolation='none')\n",
        "    plt.title(\"Predicted {}, Class {}\".format(predicted_classes[incorrect], test_Y[incorrect]))\n",
        "    plt.tight_layout()"
      ],
      "execution_count": null,
      "outputs": [
        {
          "output_type": "display_data",
          "data": {
            "image/png": "[encoded data removed]",
            "text/plain": [
              "<Figure size 432x288 with 9 Axes>"
            ]
          },
          "metadata": {
            "tags": [],
            "needs_background": "light"
          }
        }
      ]
    },
    {
      "cell_type": "markdown",
      "metadata": {
        "id": "UiUd4rkYSzO0"
      },
      "source": [
        "**Classification Report**\n",
        "Classification report will help us in identifying the misclassified classes in more detail. You will be able to observe for which class the model performed bad out of the given ten classes.\n"
      ]
    },
    {
      "cell_type": "code",
      "metadata": {
        "colab": {
          "background_save": true
        },
        "id": "vCZDQjpwSgvh",
        "outputId": "25c523b3-f7b1-4fa3-dfb6-0222c53c5299"
      },
      "source": [
        "\n",
        "from sklearn.metrics import classification_report\n",
        "target_names = [\"Class {}\".format(i) for i in range(num_classes)]\n",
        "print(classification_report(test_Y, predicted_classes, target_names=target_names))"
      ],
      "execution_count": null,
      "outputs": [
        {
          "output_type": "stream",
          "text": [
            "              precision    recall  f1-score   support\n",
            "\n",
            "     Class 0       0.78      0.91      0.84      1000\n",
            "     Class 1       0.99      0.98      0.99      1000\n",
            "     Class 2       0.91      0.86      0.88      1000\n",
            "     Class 3       0.93      0.92      0.92      1000\n",
            "     Class 4       0.85      0.91      0.88      1000\n",
            "     Class 5       0.99      0.98      0.99      1000\n",
            "     Class 6       0.83      0.69      0.76      1000\n",
            "     Class 7       0.97      0.98      0.97      1000\n",
            "     Class 8       0.99      0.99      0.99      1000\n",
            "     Class 9       0.97      0.97      0.97      1000\n",
            "\n",
            "    accuracy                           0.92     10000\n",
            "   macro avg       0.92      0.92      0.92     10000\n",
            "weighted avg       0.92      0.92      0.92     10000\n",
            "\n"
          ],
          "name": "stdout"
        }
      ]
    },
    {
      "cell_type": "markdown",
      "metadata": {
        "id": "D44v21lDTRZh"
      },
      "source": [
        "**Save the model**\n",
        "\n",
        " Save the model so that you can directly load it and not have to train it again for 20 epochs. This way, you can load the model later on if you need it and modify the architecture; Alternatively, you can start the training process on this saved model. It is always a good idea to save the model -and even the model's weights!- because it saves you time.  \n",
        "\n"
      ]
    },
    {
      "cell_type": "code",
      "metadata": {
        "colab": {
          "background_save": true
        },
        "id": "I0xhx8ySTfqb",
        "outputId": "ac29dfd4-59a5-4d56-900d-524d21a43b40"
      },
      "source": [
        "fashion_model.save(\"fashion_model_dropout.h5py\")"
      ],
      "execution_count": null,
      "outputs": [
        {
          "output_type": "stream",
          "text": [
            "INFO:tensorflow:Assets written to: fashion_model_dropout.h5py/assets\n"
          ],
          "name": "stdout"
        }
      ]
    },
    {
      "cell_type": "code",
      "metadata": {
        "colab": {
          "background_save": true
        },
        "id": "2KwwFGDDS3wy"
      },
      "source": [
        ""
      ],
      "execution_count": null,
      "outputs": []
    }
  ]
}